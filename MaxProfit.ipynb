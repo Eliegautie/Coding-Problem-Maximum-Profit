{
 "cells": [
  {
   "cell_type": "markdown",
   "id": "ca34dbad",
   "metadata": {},
   "source": [
    "**PART 1:**  \n",
    "- You are given an integer array prices where prices[i] is the price of a given stock on the ith day.                          You want to maximize your profit by choosing a single day to buy one stock and choosing a different day in the future to sell that stock.  \n",
    "\n",
    "\n",
    "- For example given the input [7, 1, 5, 3, 6, 4] the maximum profit is 5. (Buy on the 2nd day for 1 and sell on the 5th day for 6).  \n",
    "\n",
    "\n",
    "- Write a function in Python which calculates the maximum profit you can achieve."
   ]
  },
  {
   "cell_type": "markdown",
   "id": "62eef78d",
   "metadata": {},
   "source": [
    "*First solution*  \n",
    "*Time Complexity: O(N2)*"
   ]
  },
  {
   "cell_type": "code",
   "execution_count": 121,
   "id": "6ab954a3",
   "metadata": {},
   "outputs": [
    {
     "data": {
      "text/plain": [
       "5"
      ]
     },
     "execution_count": 121,
     "metadata": {},
     "output_type": "execute_result"
    }
   ],
   "source": [
    "A = [7, 1, 5, 3, 6, 4]\n",
    "\n",
    "def max_profit(A):\n",
    "    init = 0\n",
    "    \n",
    "    if len(A) == 1:\n",
    "        return \n",
    "         \n",
    "    for i in range(0,len(A)-1):\n",
    "        \n",
    "        for y in range(i+1,len(A)):\n",
    "            max_profit = max(init,(A[y]-A[i]))\n",
    "            \n",
    "            init = max_profit\n",
    "            \n",
    "    return max_profit\n",
    "\n",
    "max_profit(A)"
   ]
  },
  {
   "cell_type": "markdown",
   "id": "93aa8560",
   "metadata": {},
   "source": [
    "*Second solution*  \n",
    "*Time Complexity: O(N)*"
   ]
  },
  {
   "cell_type": "code",
   "execution_count": 4,
   "id": "eab8b1f1",
   "metadata": {},
   "outputs": [
    {
     "data": {
      "text/plain": [
       "5"
      ]
     },
     "execution_count": 4,
     "metadata": {},
     "output_type": "execute_result"
    }
   ],
   "source": [
    "A = [7, 1, 5, 3, 6, 4]\n",
    "\n",
    "def max_profit(A): \n",
    "\n",
    "    init = 0\n",
    "            \n",
    "    a = len(A)\n",
    "    \n",
    "    if (a < 2):\n",
    "        return 0 \n",
    "\n",
    "    maxi = max(A)\n",
    "    maxi_index = A.index(maxi)  \n",
    "    mini = min(A)  \n",
    "    mini_index = A.index(mini) \n",
    "\n",
    "    if mini_index < maxi_index:\n",
    "        profit = maxi-mini        \n",
    "        return profit\n",
    "\n",
    "    if mini_index == a-1 and maxi_index == 0:\n",
    "        return 0\n",
    "        \n",
    "    \n",
    "    if mini_index > maxi_index:\n",
    "        if mini_index < a-1:\n",
    "            profit = max(A[mini_index:]) - mini\n",
    "        \n",
    "            \n",
    "        \n",
    "        if maxi_index > 0:\n",
    "            if maxi - min(A[:maxi_index]) > profit:\n",
    "                profit = maxi - min(A[:maxi_index])\n",
    "        \n",
    "            \n",
    "\n",
    "        if maxi_index + 2 < mini_index:\n",
    "            mini_index_1 = min(A[maxi_index+1:mini_index]) \n",
    "            maxi_index_2 = max(A[maxi_index+1:mini_index])\n",
    "            \n",
    "            if mini_index_1 < maxi_index_2:\n",
    "                \n",
    "                if max(A[maxi_index+1:mini_index]) -  min(A[maxi_index+1:mini_index]) > profit:\n",
    "                    profit = max(A[maxi_index+1:mini_index]) -  min(A[maxi_index+1:mini_index])\n",
    "        \n",
    "                \n",
    "\n",
    "    return profit\n",
    "\n",
    "max_profit(A)"
   ]
  },
  {
   "cell_type": "markdown",
   "id": "250bbd74",
   "metadata": {},
   "source": [
    "**PART 2:**  \n",
    "- You are now given the opportunity to do a second transaction. Given the same input, find the maximum achievable profit if you were able to do 4 trades (buy-sell-buy-sell). You may not engage in multiple transactions simultaneously (i.e., you must sell the stock before you buy again). \n",
    "\n",
    "\n",
    "- For example given the input [7, 1, 5, 3, 6, 4] your should answer 7. (Best trades would be buying on the 2nd day, selling on the 3rd day, buying again on the 4th day and selling again on the 5th day).  \n",
    "\n",
    "\n",
    "- Write a second Python function which takes the same input and outputs the required answer above."
   ]
  },
  {
   "cell_type": "markdown",
   "id": "da6f5f59",
   "metadata": {},
   "source": [
    "*First Solution*"
   ]
  },
  {
   "cell_type": "code",
   "execution_count": 122,
   "id": "3671d4a3",
   "metadata": {},
   "outputs": [
    {
     "data": {
      "text/plain": [
       "7"
      ]
     },
     "execution_count": 122,
     "metadata": {},
     "output_type": "execute_result"
    }
   ],
   "source": [
    "A = [7, 1, 5, 3, 6, 4]\n",
    "\n",
    "def max_profit(A):\n",
    "    init = 0\n",
    "    y_index = []\n",
    "    max_profit = []\n",
    "    \n",
    "    if len(A) == 1:\n",
    "        return \n",
    "    \n",
    "    for i in range(0,len(A)-3):\n",
    "        \n",
    "        for y in range(i+1,len(A)-2):\n",
    "            \n",
    "            max_profit_1 = max(init,(A[y]-A[i]))            \n",
    "            init = max_profit_1\n",
    "            \n",
    "            y_index.append(y)\n",
    "            max_profit.append(max_profit_1)\n",
    "            \n",
    "    max_profit_index = max_profit.index(max(max_profit))\n",
    "    lower_bound = y_index[max_profit_index]\n",
    "    \n",
    "    init = 0\n",
    "    \n",
    "    for i in range(lower_bound + 1,len(A)-1):\n",
    "        \n",
    "        for y in range(i+1,len(A)):\n",
    "            \n",
    "            max_profit_2 = max(init,(A[y]-A[i]))            \n",
    "            init = max_profit_2\n",
    "            \n",
    "    return max_profit_1 + max_profit_2\n",
    "\n",
    "max_profit(A)        "
   ]
  },
  {
   "cell_type": "markdown",
   "id": "147d9bf0",
   "metadata": {},
   "source": [
    "*Second Solution*  \n",
    "Time Complexity : O(N)"
   ]
  },
  {
   "cell_type": "code",
   "execution_count": 6,
   "id": "91f6738e",
   "metadata": {},
   "outputs": [
    {
     "data": {
      "text/plain": [
       "7"
      ]
     },
     "execution_count": 6,
     "metadata": {},
     "output_type": "execute_result"
    }
   ],
   "source": [
    "A = [7, 1, 5, 3, 6, 4]\n",
    "\n",
    "def max_profit(A):\n",
    "    \n",
    "    profit = 0\n",
    "     \n",
    "    a = len(A)\n",
    "    \n",
    "    if (a <= 3):\n",
    "        return 0     \n",
    "    \n",
    "    i = 0\n",
    "    \n",
    "    while (i < (a - 1)):\n",
    "        \n",
    "        while ((i < (a - 1)) and (A[i + 1] <= A[i])):       \n",
    "            i += 1\n",
    "                \n",
    "            if (i == a - 1):\n",
    "                return 0\n",
    "                \n",
    "        buy = A[i]\n",
    "\n",
    "        i += 1       \n",
    "               \n",
    "        \n",
    "        while ((i < a) and (A[i] >= A[i - 1])):\n",
    "            i += 1\n",
    "            \n",
    "        sell = A[i-1]\n",
    "        \n",
    "        profit += (sell - buy)\n",
    "        \n",
    "    return profit\n",
    "    \n",
    "max_profit(A)    "
   ]
  }
 ],
 "metadata": {
  "kernelspec": {
   "display_name": "Python 3 (ipykernel)",
   "language": "python",
   "name": "python3"
  },
  "language_info": {
   "codemirror_mode": {
    "name": "ipython",
    "version": 3
   },
   "file_extension": ".py",
   "mimetype": "text/x-python",
   "name": "python",
   "nbconvert_exporter": "python",
   "pygments_lexer": "ipython3",
   "version": "3.9.13"
  }
 },
 "nbformat": 4,
 "nbformat_minor": 5
}
